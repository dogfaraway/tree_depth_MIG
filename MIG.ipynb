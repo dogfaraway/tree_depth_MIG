{
 "cells": [
  {
   "cell_type": "code",
   "execution_count": 5,
   "metadata": {},
   "outputs": [],
   "source": [
    "from math import log"
   ]
  },
  {
   "cell_type": "code",
   "execution_count": 6,
   "metadata": {},
   "outputs": [],
   "source": [
    "def calcShannonEnt(dataSet):\n",
    "    numEntries = len(dataSet)  ## 获得样本总数，这里是列表的行数\n",
    "    labelCounts = {}           ## 创建分类标签变量，键值对形式\n",
    "    for featVec in dataSet:   ## 循环list里每一个元素\n",
    "        currentLabel = featVec[-1]                    ## 从某一个list元素的最后一个元素取值，这个值是分类标签\n",
    "        if currentLabel not in labelCounts.keys():   ## 判断该分类标签是否不在labelCounts里\n",
    "            labelCounts[currentLabel] = 0             ## 如果没有，那么labelCounts变量增加一个键值对 \n",
    "        labelCounts[currentLabel] += 1                ## 如果已经有了，那么labelCounts变量已有键值递增\n",
    "    shannonEnt = 0.0           ## 初始化香农熵\n",
    "    for key in labelCounts:   ## 循环labelCounts里所有的key，有几个键值对就有几个key\n",
    "        prob = float(labelCounts[key])/numEntries   ## 计算后验概率，用key除以样本总量numEntries\n",
    "        shannonEnt -= prob*log(prob,2)              ## -=即迭代表示，相当于 shannonEnt = shannonEnt - prob*log(prob,2)\n",
    "    return shannonEnt         ## 返回香农熵的值"
   ]
  },
  {
   "cell_type": "code",
   "execution_count": 7,
   "metadata": {},
   "outputs": [],
   "source": [
    "def createDataSet():\n",
    "    dataSet =   [[1,1,'yes'],\n",
    "                 [1,1,'yes'],\n",
    "                 [1,0,'no'],\n",
    "                 [0,1,'no'],\n",
    "                 [0,1,'no']]\n",
    "    labels = ['no surfacing','flippers']\n",
    "    return dataSet, labels"
   ]
  },
  {
   "cell_type": "code",
   "execution_count": 8,
   "metadata": {},
   "outputs": [],
   "source": [
    "myDat,labels = createDataSet()"
   ]
  },
  {
   "cell_type": "code",
   "execution_count": 9,
   "metadata": {},
   "outputs": [
    {
     "data": {
      "text/plain": [
       "0.9709505944546686"
      ]
     },
     "execution_count": 9,
     "metadata": {},
     "output_type": "execute_result"
    }
   ],
   "source": [
    "calcShannonEnt(myDat)"
   ]
  },
  {
   "cell_type": "code",
   "execution_count": null,
   "metadata": {},
   "outputs": [],
   "source": []
  }
 ],
 "metadata": {
  "kernelspec": {
   "display_name": "Python 3",
   "language": "python",
   "name": "python3"
  },
  "language_info": {
   "codemirror_mode": {
    "name": "ipython",
    "version": 3
   },
   "file_extension": ".py",
   "mimetype": "text/x-python",
   "name": "python",
   "nbconvert_exporter": "python",
   "pygments_lexer": "ipython3",
   "version": "3.7.7"
  }
 },
 "nbformat": 4,
 "nbformat_minor": 4
}
